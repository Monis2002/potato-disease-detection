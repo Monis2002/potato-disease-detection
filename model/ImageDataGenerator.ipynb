{
 "cells": [
  {
   "cell_type": "markdown",
   "id": "6cba3e93",
   "metadata": {},
   "source": [
    "# ImageDataGenerator\n",
    "\n",
    "- Rather than using re-scaling and augmentation layer we can do same thing in better way.."
   ]
  },
  {
   "cell_type": "code",
   "execution_count": 1,
   "id": "819aceeb",
   "metadata": {},
   "outputs": [
    {
     "name": "stdout",
     "output_type": "stream",
     "text": [
      "WARNING:tensorflow:From C:\\Users\\hp\\anaconda3\\Lib\\site-packages\\keras\\src\\losses.py:2976: The name tf.losses.sparse_softmax_cross_entropy is deprecated. Please use tf.compat.v1.losses.sparse_softmax_cross_entropy instead.\n",
      "\n"
     ]
    }
   ],
   "source": [
    "import tensorflow as tf\n",
    "from tensorflow.keras import models,layers\n",
    "import matplotlib.pyplot as plt\n",
    "from IPython.display import HTML\n",
    "\n",
    "from tensorflow.keras.preprocessing.image import ImageDataGenerator"
   ]
  },
  {
   "cell_type": "markdown",
   "id": "f478a1e7",
   "metadata": {},
   "source": [
    "## I will split data \n",
    "\n",
    "- `split_folders` model will help to divide the folders"
   ]
  },
  {
   "cell_type": "markdown",
   "id": "c82ca65f",
   "metadata": {},
   "source": [
    "here we divide data into 70% Training,10% validation,20% Testing"
   ]
  },
  {
   "cell_type": "code",
   "execution_count": 2,
   "id": "d06751ef",
   "metadata": {
    "scrolled": true
   },
   "outputs": [
    {
     "name": "stderr",
     "output_type": "stream",
     "text": [
      "Copying files: 2152 files [00:20, 105.74 files/s]\n"
     ]
    }
   ],
   "source": [
    "import splitfolders \n",
    "splitfolders.ratio('PlantVillage', output=\"dataset\", seed=1337, ratio=(.7, 0.1,0.2)) "
   ]
  },
  {
   "cell_type": "markdown",
   "id": "39dcd687",
   "metadata": {},
   "source": [
    "It had make dataset new folder with train,val,test"
   ]
  },
  {
   "cell_type": "code",
   "execution_count": 21,
   "id": "ba58ebb2",
   "metadata": {},
   "outputs": [
    {
     "name": "stdout",
     "output_type": "stream",
     "text": [
      "Found 1506 images belonging to 3 classes.\n"
     ]
    }
   ],
   "source": [
    "IMAGE_SIZE=256\n",
    "CHANNELS=3\n",
    "\n",
    "train_datagen=ImageDataGenerator(\n",
    "    rescale=1./255,\n",
    "    horizontal_flip=True,\n",
    "    rotation_range=10,\n",
    "    \n",
    "    \n",
    ")\n",
    "\n",
    "\n",
    "train_generator=train_datagen.flow_from_directory(\n",
    "    'dataset/train',\n",
    "    target_size=(IMAGE_SIZE,IMAGE_SIZE),\n",
    "    batch_size=32,\n",
    "    class_mode='sparse',\n",
    "    \n",
    ")"
   ]
  },
  {
   "cell_type": "code",
   "execution_count": 7,
   "id": "c74b8f5a",
   "metadata": {},
   "outputs": [
    {
     "name": "stdout",
     "output_type": "stream",
     "text": [
      "(32, 256, 256, 3)\n",
      "[0. 1. 2. 1. 1. 0. 0. 1. 2. 0. 1. 1. 0. 0. 0. 1. 0. 0. 0. 0. 2. 0. 0. 0.\n",
      " 1. 1. 1. 1. 2. 1. 0. 2.]\n"
     ]
    }
   ],
   "source": [
    "for image_batch,label_batch in trian_generator:\n",
    "    print(image_batch.shape)\n",
    "    print(label_batch)\n",
    "    break"
   ]
  },
  {
   "cell_type": "markdown",
   "id": "0186d88f",
   "metadata": {},
   "source": [
    "Same for validation"
   ]
  },
  {
   "cell_type": "code",
   "execution_count": 8,
   "id": "050fd199",
   "metadata": {},
   "outputs": [
    {
     "name": "stdout",
     "output_type": "stream",
     "text": [
      "Found 215 images belonging to 3 classes.\n"
     ]
    }
   ],
   "source": [
    "val_datagen=ImageDataGenerator(\n",
    "    rescale=1./255,\n",
    "    horizontal_flip=True,\n",
    "    rotation_range=10,\n",
    "    \n",
    "    \n",
    ")\n",
    "\n",
    "\n",
    "val_generator=train_datagen.flow_from_directory(\n",
    "    'dataset/val',\n",
    "    target_size=(IMAGE_SIZE,IMAGE_SIZE),\n",
    "    batch_size=32,\n",
    "    class_mode='sparse',\n",
    "    \n",
    ")"
   ]
  },
  {
   "cell_type": "markdown",
   "id": "a41173d3",
   "metadata": {},
   "source": [
    "for test"
   ]
  },
  {
   "cell_type": "code",
   "execution_count": 9,
   "id": "df52740e",
   "metadata": {},
   "outputs": [
    {
     "name": "stdout",
     "output_type": "stream",
     "text": [
      "Found 431 images belonging to 3 classes.\n"
     ]
    }
   ],
   "source": [
    "test_datagen=ImageDataGenerator(\n",
    "    rescale=1./255,\n",
    "    horizontal_flip=True,\n",
    "    rotation_range=10,\n",
    "    \n",
    "    \n",
    ")\n",
    "\n",
    "\n",
    "test_generator=train_datagen.flow_from_directory(\n",
    "    'dataset/test',\n",
    "    target_size=(IMAGE_SIZE,IMAGE_SIZE),\n",
    "    batch_size=32,\n",
    "    class_mode='sparse',\n",
    "    \n",
    ")"
   ]
  },
  {
   "cell_type": "markdown",
   "id": "a381e7ad",
   "metadata": {},
   "source": [
    "#### Model Building"
   ]
  },
  {
   "cell_type": "code",
   "execution_count": 14,
   "id": "9380cbe6",
   "metadata": {},
   "outputs": [],
   "source": [
    "input_shape=(IMAGE_SIZE,IMAGE_SIZE,CHANNELS)\n",
    "n_classes=3\n",
    "model=models.Sequential([\n",
    "    layers.InputLayer(input_shape=input_shape),\n",
    "    layers.Conv2D(32,(3,3),activation='relu',input_shape=input_shape),\n",
    "    layers.MaxPooling2D((2,2)),\n",
    "    layers.Conv2D(64,kernel_size=(3,3),activation='relu'),\n",
    "    layers.MaxPooling2D((2,2)),\n",
    "    layers.Conv2D(64,kernel_size=(3,3),activation='relu'),\n",
    "    layers.MaxPooling2D((2,2)),\n",
    "    layers.Conv2D(64,(3,3),activation='relu'),\n",
    "    layers.MaxPooling2D((2,2)),\n",
    "    layers.Conv2D(64,(3,3),activation='relu'),\n",
    "    layers.MaxPooling2D((2,2)),\n",
    "    layers.Conv2D(64,(3,3),activation='relu'),\n",
    "    layers.MaxPooling2D((2,2)),\n",
    "    \n",
    "    layers.Flatten(),\n",
    "    layers.Dense(64,activation='relu'),\n",
    "    layers.Dense(n_classes,activation='softmax')\n",
    "])"
   ]
  },
  {
   "cell_type": "code",
   "execution_count": 15,
   "id": "592bfd75",
   "metadata": {},
   "outputs": [
    {
     "name": "stdout",
     "output_type": "stream",
     "text": [
      "Model: \"sequential\"\n",
      "_________________________________________________________________\n",
      " Layer (type)                Output Shape              Param #   \n",
      "=================================================================\n",
      " conv2d_6 (Conv2D)           (None, 254, 254, 32)      896       \n",
      "                                                                 \n",
      " max_pooling2d_6 (MaxPoolin  (None, 127, 127, 32)      0         \n",
      " g2D)                                                            \n",
      "                                                                 \n",
      " conv2d_7 (Conv2D)           (None, 125, 125, 64)      18496     \n",
      "                                                                 \n",
      " max_pooling2d_7 (MaxPoolin  (None, 62, 62, 64)        0         \n",
      " g2D)                                                            \n",
      "                                                                 \n",
      " conv2d_8 (Conv2D)           (None, 60, 60, 64)        36928     \n",
      "                                                                 \n",
      " max_pooling2d_8 (MaxPoolin  (None, 30, 30, 64)        0         \n",
      " g2D)                                                            \n",
      "                                                                 \n",
      " conv2d_9 (Conv2D)           (None, 28, 28, 64)        36928     \n",
      "                                                                 \n",
      " max_pooling2d_9 (MaxPoolin  (None, 14, 14, 64)        0         \n",
      " g2D)                                                            \n",
      "                                                                 \n",
      " conv2d_10 (Conv2D)          (None, 12, 12, 64)        36928     \n",
      "                                                                 \n",
      " max_pooling2d_10 (MaxPooli  (None, 6, 6, 64)          0         \n",
      " ng2D)                                                           \n",
      "                                                                 \n",
      " conv2d_11 (Conv2D)          (None, 4, 4, 64)          36928     \n",
      "                                                                 \n",
      " max_pooling2d_11 (MaxPooli  (None, 2, 2, 64)          0         \n",
      " ng2D)                                                           \n",
      "                                                                 \n",
      " flatten_1 (Flatten)         (None, 256)               0         \n",
      "                                                                 \n",
      " dense_1 (Dense)             (None, 64)                16448     \n",
      "                                                                 \n",
      " dense_2 (Dense)             (None, 3)                 195       \n",
      "                                                                 \n",
      "=================================================================\n",
      "Total params: 183747 (717.76 KB)\n",
      "Trainable params: 183747 (717.76 KB)\n",
      "Non-trainable params: 0 (0.00 Byte)\n",
      "_________________________________________________________________\n"
     ]
    }
   ],
   "source": [
    "model.summary()"
   ]
  },
  {
   "cell_type": "code",
   "execution_count": 16,
   "id": "4fe78bf2",
   "metadata": {},
   "outputs": [
    {
     "name": "stdout",
     "output_type": "stream",
     "text": [
      "WARNING:tensorflow:From C:\\Users\\hp\\anaconda3\\Lib\\site-packages\\keras\\src\\optimizers\\__init__.py:309: The name tf.train.Optimizer is deprecated. Please use tf.compat.v1.train.Optimizer instead.\n",
      "\n"
     ]
    }
   ],
   "source": [
    "model.compile(\n",
    "    optimizer='adam',\n",
    "    loss=tf.keras.losses.SparseCategoricalCrossentropy(from_logits=False),\n",
    "    metrics=['accuracy']\n",
    ")"
   ]
  },
  {
   "cell_type": "markdown",
   "id": "87567b7d",
   "metadata": {},
   "source": [
    "steps_per_epoch value is depend on number of images and batch_size"
   ]
  },
  {
   "cell_type": "code",
   "execution_count": 17,
   "id": "f3e9fb5e",
   "metadata": {},
   "outputs": [
    {
     "data": {
      "text/plain": [
       "47.0625"
      ]
     },
     "execution_count": 17,
     "metadata": {},
     "output_type": "execute_result"
    }
   ],
   "source": [
    "1506/32"
   ]
  },
  {
   "cell_type": "markdown",
   "id": "eb00d788",
   "metadata": {},
   "source": [
    "Same as above for validation_data"
   ]
  },
  {
   "cell_type": "code",
   "execution_count": 25,
   "id": "d4ab0a07",
   "metadata": {},
   "outputs": [
    {
     "data": {
      "text/plain": [
       "6.71875"
      ]
     },
     "execution_count": 25,
     "metadata": {},
     "output_type": "execute_result"
    }
   ],
   "source": [
    "215/32"
   ]
  },
  {
   "cell_type": "code",
   "execution_count": 27,
   "id": "833446e7",
   "metadata": {},
   "outputs": [
    {
     "name": "stdout",
     "output_type": "stream",
     "text": [
      "Epoch 1/2\n",
      "47/47 [==============================] - 67s 1s/step - loss: 0.1254 - accuracy: 0.9545 - val_loss: 0.2905 - val_accuracy: 0.9010\n",
      "Epoch 2/2\n",
      "47/47 [==============================] - 68s 1s/step - loss: 0.1233 - accuracy: 0.9491 - val_loss: 0.1766 - val_accuracy: 0.9219\n"
     ]
    },
    {
     "data": {
      "text/plain": [
       "<keras.src.callbacks.History at 0x2cd288506d0>"
      ]
     },
     "execution_count": 27,
     "metadata": {},
     "output_type": "execute_result"
    }
   ],
   "source": [
    "EPOCHS=2\n",
    "\n",
    "model.fit(\n",
    "    train_generator,\n",
    "    steps_per_epoch=47,\n",
    "    batch_size=32,\n",
    "    validation_data=val_generator,\n",
    "    validation_steps=6,\n",
    "    verbose=1,\n",
    "    epochs=EPOCHS\n",
    ")"
   ]
  },
  {
   "cell_type": "markdown",
   "id": "23ade68e",
   "metadata": {},
   "source": [
    "## Save Model\n",
    "-  Here we save model in `model.h5`, rather than saving model in directory we save model in 1 single file."
   ]
  },
  {
   "cell_type": "code",
   "execution_count": 28,
   "id": "1afba88b",
   "metadata": {},
   "outputs": [
    {
     "name": "stderr",
     "output_type": "stream",
     "text": [
      "C:\\Users\\hp\\anaconda3\\Lib\\site-packages\\keras\\src\\engine\\training.py:3103: UserWarning: You are saving your model as an HDF5 file via `model.save()`. This file format is considered legacy. We recommend using instead the native Keras format, e.g. `model.save('my_model.keras')`.\n",
      "  saving_api.save_model(\n"
     ]
    }
   ],
   "source": [
    "model.save('potato_imageDataGenerator.h5')"
   ]
  }
 ],
 "metadata": {
  "kernelspec": {
   "display_name": "Python 3 (ipykernel)",
   "language": "python",
   "name": "python3"
  },
  "language_info": {
   "codemirror_mode": {
    "name": "ipython",
    "version": 3
   },
   "file_extension": ".py",
   "mimetype": "text/x-python",
   "name": "python",
   "nbconvert_exporter": "python",
   "pygments_lexer": "ipython3",
   "version": "3.11.5"
  }
 },
 "nbformat": 4,
 "nbformat_minor": 5
}
